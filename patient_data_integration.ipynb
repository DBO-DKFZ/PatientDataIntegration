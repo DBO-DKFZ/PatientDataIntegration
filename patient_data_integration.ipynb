{
 "cells": [
  {
   "cell_type": "markdown",
   "metadata": {},
   "source": [
    "Integration of patient data\n",
    "------------------------------"
   ]
  },
  {
   "cell_type": "code",
   "execution_count": 1,
   "metadata": {},
   "outputs": [],
   "source": [
    "import os\n",
    "os.environ[\"CUDA_DEVICE_ORDER\"]=\"PCI_BUS_ID\" \n",
    "os.environ[\"CUDA_VISIBLE_DEVICES\"]=  str(0)"
   ]
  },
  {
   "cell_type": "markdown",
   "metadata": {},
   "source": [
    "Imports\n",
    "-----------"
   ]
  },
  {
   "cell_type": "code",
   "execution_count": 2,
   "metadata": {},
   "outputs": [],
   "source": [
    "import configs, functions_v2, dataset_classes_v1, mymodels\n",
    "\n",
    "import pandas as pd\n",
    "import numpy as np\n",
    "#import time\n",
    "import copy\n",
    "#import random \n",
    "#import os\n",
    "#import math\n",
    "#from datetime import datetime \n",
    "\n",
    "import torch\n",
    "import torchvision\n",
    "from torch.utils.data import DataLoader\n",
    "#from torch.utils.data import Dataset, DataLoader\n",
    "from torchvision import transforms\n",
    "#from torchvision import transforms, utils\n",
    "#from torchvision import models\n",
    "import torch.nn as nn\n",
    "#import torch.optim as optim\n",
    "#from torch.optim import lr_scheduler\n",
    "\n",
    "#from fastai2.vision.all import *\n",
    "#from sklearn.preprocessing import MinMaxScaler\n",
    "\n",
    "import matplotlib.pyplot as plt\n",
    "\n",
    "from tqdm import tqdm\n",
    "\n",
    "from sklearn.ensemble import RandomForestClassifier\n",
    "from sklearn.metrics import balanced_accuracy_score\n",
    "from sklearn.metrics import roc_auc_score\n",
    "#from sklearn import metrics\n",
    "#from sklearn.metrics import auc"
   ]
  },
  {
   "cell_type": "markdown",
   "metadata": {},
   "source": [
    "Setting the parameter of the experiment\n",
    "-----------------"
   ]
  },
  {
   "cell_type": "code",
   "execution_count": 3,
   "metadata": {},
   "outputs": [],
   "source": [
    "# to do: hier alle Möglichkeiten (base, appraoch 1,2,3) eintragen\n",
    "class Hparams(): \n",
    "    def __init__(self): \n",
    "        self.gpu = str(0)\n",
    "        self.experiment_id= 'cfgs6'\n",
    "        dataset = [['lab2'],['lab2', 'lab1']]\n",
    "        setting = ['K', 'K+F']\n",
    "        self.dataset = dataset[1]\n",
    "        self.mode = 'base'\n",
    "        self.encoding_scheme = 'unscaled'\n",
    "        self.setting = setting[1]\n",
    "        self.splits =  13\n",
    "        self.batch_size = 128\n",
    "        self.metadata_list =  ['age', 'gender', 'location']\n",
    "        self.test_flag =  False\n",
    "        self.num_epochs = 30 \n",
    "        self.epoch_fine_tuning = 10\n",
    "        self.runs =  5\n",
    "        self.hidden1 = 2048 #2048, 512\n",
    "        self.meta_out = 512 # 512, 256\n",
    "        self.combined_metadata = []\n",
    "        self.samples_list = []\n",
    "        self.labels_matrix = []\n",
    "        self.rs = 1 \n",
    "        self.num_workers = 5\n",
    "        self.dropout = 0.3\n",
    "        self.nr_tiles = 0 \n",
    "        self.overview_results = []"
   ]
  },
  {
   "cell_type": "markdown",
   "metadata": {},
   "source": [
    "Load the trained models\n",
    "---------------------"
   ]
  },
  {
   "cell_type": "code",
   "execution_count": 4,
   "metadata": {},
   "outputs": [],
   "source": [
    "hparams = Hparams()\n",
    "path = configs.get_path_to_trained_model(\"base\")\n",
    "model_paths = path +  '0'# todo: pseudo"
   ]
  },
  {
   "cell_type": "code",
   "execution_count": 5,
   "metadata": {},
   "outputs": [
    {
     "name": "stdout",
     "output_type": "stream",
     "text": [
      "------------------------------\n",
      "General settings\n",
      "------------------------------\n",
      "Starting experiment  cfgs6\n",
      "Using device  cuda:0\n",
      "Dataset:  ['lab2', 'lab1']\n",
      "Mode:  base\n",
      "Encoding:  unscaled\n",
      "------------------------------\n",
      "Handling Missing data\n",
      "------------------------------\n",
      "age\n",
      "number of missing data:  15\n",
      "For age, replace by the mean age:  52.25721153846154\n",
      "gender\n",
      "number of missing data:  15\n",
      "For gender, replace by the most common gender:  0\n",
      "location\n",
      "number of missing data:  24\n",
      "For location, replace by the most common location:  0\n",
      "UV\n",
      "number of missing data:  29\n",
      "For location, replace by the most common location:  0\n",
      "label\n",
      "number of missing data:  0\n",
      "lab\n",
      "number of missing data:  0\n",
      "------------------------------\n",
      "Take a look at the data:\n",
      "------------------------------\n",
      "            slide_name  label   age  gender  location   UV  lab\n",
      "0  2019-03-12 12.05.43      1  79.0     0.0       0.0  1.0    0\n",
      "1  2019-03-12 12.09.23      1  63.0     1.0       2.0  0.0    0\n",
      "2  2019-03-12 11.24.32      1  63.0     0.0       0.0  0.0    0\n",
      "3  2019-03-12 11.15.26      1  53.0     1.0       2.0  0.0    0\n",
      "4  2019-03-12 11.40.20      1  63.0     0.0       0.0  1.0    0\n",
      "Dataset includes 431 slides\n",
      "------------------------------\n",
      "Data splitting (stratificated)\n",
      "------------------------------\n",
      "13 Folds are created among which the metadata is equally distributed. 2 folds are used for the validation, 4 for the test and the remaining for the training set \n",
      "Stratified Folds (Checkpoint: Equally distributed?): \n",
      "Fold 0:label nevi 16, label mel 17, Age mean: 52.1368006993007, Females: 15, Males: 18, Extremität: 20, Kopf: 1, Rumpf: 12, Lab 0: 25, Lab 1: 8\n",
      "Fold 1:label nevi 18, label mel 16, Age mean: 51.9487415158371, Females: 22, Males: 12, Extremität: 15, Kopf: 2, Rumpf: 17, Lab 0: 27, Lab 1: 7\n",
      "Fold 2:label nevi 17, label mel 16, Age mean: 53.439831002331005, Females: 21, Males: 12, Extremität: 19, Kopf: 6, Rumpf: 8, Lab 0: 25, Lab 1: 8\n",
      "Fold 3:label nevi 18, label mel 15, Age mean: 49.74286130536131, Females: 19, Males: 14, Extremität: 20, Kopf: 2, Rumpf: 11, Lab 0: 25, Lab 1: 8\n",
      "Fold 4:label nevi 15, label mel 18, Age mean: 54.31861888111888, Females: 21, Males: 12, Extremität: 14, Kopf: 5, Rumpf: 14, Lab 0: 25, Lab 1: 8\n",
      "Fold 5:label nevi 17, label mel 16, Age mean: 51.46233974358974, Females: 16, Males: 17, Extremität: 16, Kopf: 2, Rumpf: 15, Lab 0: 25, Lab 1: 8\n",
      "Fold 6:label nevi 17, label mel 16, Age mean: 52.75757575757576, Females: 18, Males: 15, Extremität: 14, Kopf: 2, Rumpf: 17, Lab 0: 26, Lab 1: 7\n",
      "Fold 7:label nevi 16, label mel 17, Age mean: 50.333333333333336, Females: 13, Males: 20, Extremität: 15, Kopf: 4, Rumpf: 14, Lab 0: 25, Lab 1: 8\n",
      "Fold 8:label nevi 16, label mel 17, Age mean: 51.86407342657343, Females: 21, Males: 12, Extremität: 12, Kopf: 5, Rumpf: 16, Lab 0: 26, Lab 1: 7\n",
      "Fold 9:label nevi 18, label mel 16, Age mean: 54.71344739819004, Females: 15, Males: 19, Extremität: 18, Kopf: 4, Rumpf: 12, Lab 0: 26, Lab 1: 8\n",
      "Fold 10:label nevi 19, label mel 14, Age mean: 50.038097319347315, Females: 18, Males: 15, Extremität: 16, Kopf: 4, Rumpf: 13, Lab 0: 25, Lab 1: 8\n",
      "Fold 11:label nevi 17, label mel 16, Age mean: 52.696969696969695, Females: 15, Males: 18, Extremität: 12, Kopf: 3, Rumpf: 18, Lab 0: 26, Lab 1: 7\n",
      "Fold 12:label nevi 18, label mel 15, Age mean: 53.825976107226104, Females: 20, Males: 13, Extremität: 19, Kopf: 2, Rumpf: 12, Lab 0: 25, Lab 1: 8\n",
      "****************************************\n",
      "#Slides in Trainingset: 232 (121 Nevi/111 Mels)\n",
      "#Slides in Validationset:: 67 (34 Nevi/33 Mels)\n",
      "#Slides in Testset: 132 (67 Nevi/65 Mels)\n",
      "------------------------------\n",
      "Encoding\n",
      "------------------------------\n",
      "Nothing happens\n",
      "            slide_name  label   age  gender  location   UV  lab\n",
      "0  2019-03-12 12.05.43      1  79.0     0.0       0.0  1.0    0\n",
      "1  2019-03-12 12.09.23      1  63.0     1.0       2.0  0.0    0\n",
      "2  2019-03-12 11.24.32      1  63.0     0.0       0.0  0.0    0\n",
      "3  2019-03-12 11.15.26      1  53.0     1.0       2.0  0.0    0\n",
      "4  2019-03-12 11.40.20      1  63.0     0.0       0.0  1.0    0\n",
      "------------------------------\n",
      "Creation of datasets: Sizes (#tiles)\n",
      "------------------------------\n",
      "Size Trainset: 35584\n",
      "Size Validationset: 8474\n",
      "Size Testset: 24437\n",
      "------------------------------\n",
      "Model Baseline/Image feature extractor of fusion approaches\n",
      "------------------------------\n",
      "Mode  base\n",
      "meta_in parameter (not relevant if mode is \"base\"):  3\n",
      "load model .. \n"
     ]
    },
    {
     "data": {
      "text/plain": [
       "ResNet(\n",
       "  (conv1): Conv2d(3, 64, kernel_size=(7, 7), stride=(2, 2), padding=(3, 3), bias=False)\n",
       "  (bn1): BatchNorm2d(64, eps=1e-05, momentum=0.1, affine=True, track_running_stats=True)\n",
       "  (relu): ReLU(inplace=True)\n",
       "  (maxpool): MaxPool2d(kernel_size=3, stride=2, padding=1, dilation=1, ceil_mode=False)\n",
       "  (layer1): Sequential(\n",
       "    (0): Bottleneck(\n",
       "      (conv1): Conv2d(64, 128, kernel_size=(1, 1), stride=(1, 1), bias=False)\n",
       "      (bn1): BatchNorm2d(128, eps=1e-05, momentum=0.1, affine=True, track_running_stats=True)\n",
       "      (conv2): Conv2d(128, 128, kernel_size=(3, 3), stride=(1, 1), padding=(1, 1), groups=32, bias=False)\n",
       "      (bn2): BatchNorm2d(128, eps=1e-05, momentum=0.1, affine=True, track_running_stats=True)\n",
       "      (conv3): Conv2d(128, 256, kernel_size=(1, 1), stride=(1, 1), bias=False)\n",
       "      (bn3): BatchNorm2d(256, eps=1e-05, momentum=0.1, affine=True, track_running_stats=True)\n",
       "      (relu): ReLU(inplace=True)\n",
       "      (downsample): Sequential(\n",
       "        (0): Conv2d(64, 256, kernel_size=(1, 1), stride=(1, 1), bias=False)\n",
       "        (1): BatchNorm2d(256, eps=1e-05, momentum=0.1, affine=True, track_running_stats=True)\n",
       "      )\n",
       "    )\n",
       "    (1): Bottleneck(\n",
       "      (conv1): Conv2d(256, 128, kernel_size=(1, 1), stride=(1, 1), bias=False)\n",
       "      (bn1): BatchNorm2d(128, eps=1e-05, momentum=0.1, affine=True, track_running_stats=True)\n",
       "      (conv2): Conv2d(128, 128, kernel_size=(3, 3), stride=(1, 1), padding=(1, 1), groups=32, bias=False)\n",
       "      (bn2): BatchNorm2d(128, eps=1e-05, momentum=0.1, affine=True, track_running_stats=True)\n",
       "      (conv3): Conv2d(128, 256, kernel_size=(1, 1), stride=(1, 1), bias=False)\n",
       "      (bn3): BatchNorm2d(256, eps=1e-05, momentum=0.1, affine=True, track_running_stats=True)\n",
       "      (relu): ReLU(inplace=True)\n",
       "    )\n",
       "    (2): Bottleneck(\n",
       "      (conv1): Conv2d(256, 128, kernel_size=(1, 1), stride=(1, 1), bias=False)\n",
       "      (bn1): BatchNorm2d(128, eps=1e-05, momentum=0.1, affine=True, track_running_stats=True)\n",
       "      (conv2): Conv2d(128, 128, kernel_size=(3, 3), stride=(1, 1), padding=(1, 1), groups=32, bias=False)\n",
       "      (bn2): BatchNorm2d(128, eps=1e-05, momentum=0.1, affine=True, track_running_stats=True)\n",
       "      (conv3): Conv2d(128, 256, kernel_size=(1, 1), stride=(1, 1), bias=False)\n",
       "      (bn3): BatchNorm2d(256, eps=1e-05, momentum=0.1, affine=True, track_running_stats=True)\n",
       "      (relu): ReLU(inplace=True)\n",
       "    )\n",
       "  )\n",
       "  (layer2): Sequential(\n",
       "    (0): Bottleneck(\n",
       "      (conv1): Conv2d(256, 256, kernel_size=(1, 1), stride=(1, 1), bias=False)\n",
       "      (bn1): BatchNorm2d(256, eps=1e-05, momentum=0.1, affine=True, track_running_stats=True)\n",
       "      (conv2): Conv2d(256, 256, kernel_size=(3, 3), stride=(2, 2), padding=(1, 1), groups=32, bias=False)\n",
       "      (bn2): BatchNorm2d(256, eps=1e-05, momentum=0.1, affine=True, track_running_stats=True)\n",
       "      (conv3): Conv2d(256, 512, kernel_size=(1, 1), stride=(1, 1), bias=False)\n",
       "      (bn3): BatchNorm2d(512, eps=1e-05, momentum=0.1, affine=True, track_running_stats=True)\n",
       "      (relu): ReLU(inplace=True)\n",
       "      (downsample): Sequential(\n",
       "        (0): Conv2d(256, 512, kernel_size=(1, 1), stride=(2, 2), bias=False)\n",
       "        (1): BatchNorm2d(512, eps=1e-05, momentum=0.1, affine=True, track_running_stats=True)\n",
       "      )\n",
       "    )\n",
       "    (1): Bottleneck(\n",
       "      (conv1): Conv2d(512, 256, kernel_size=(1, 1), stride=(1, 1), bias=False)\n",
       "      (bn1): BatchNorm2d(256, eps=1e-05, momentum=0.1, affine=True, track_running_stats=True)\n",
       "      (conv2): Conv2d(256, 256, kernel_size=(3, 3), stride=(1, 1), padding=(1, 1), groups=32, bias=False)\n",
       "      (bn2): BatchNorm2d(256, eps=1e-05, momentum=0.1, affine=True, track_running_stats=True)\n",
       "      (conv3): Conv2d(256, 512, kernel_size=(1, 1), stride=(1, 1), bias=False)\n",
       "      (bn3): BatchNorm2d(512, eps=1e-05, momentum=0.1, affine=True, track_running_stats=True)\n",
       "      (relu): ReLU(inplace=True)\n",
       "    )\n",
       "    (2): Bottleneck(\n",
       "      (conv1): Conv2d(512, 256, kernel_size=(1, 1), stride=(1, 1), bias=False)\n",
       "      (bn1): BatchNorm2d(256, eps=1e-05, momentum=0.1, affine=True, track_running_stats=True)\n",
       "      (conv2): Conv2d(256, 256, kernel_size=(3, 3), stride=(1, 1), padding=(1, 1), groups=32, bias=False)\n",
       "      (bn2): BatchNorm2d(256, eps=1e-05, momentum=0.1, affine=True, track_running_stats=True)\n",
       "      (conv3): Conv2d(256, 512, kernel_size=(1, 1), stride=(1, 1), bias=False)\n",
       "      (bn3): BatchNorm2d(512, eps=1e-05, momentum=0.1, affine=True, track_running_stats=True)\n",
       "      (relu): ReLU(inplace=True)\n",
       "    )\n",
       "    (3): Bottleneck(\n",
       "      (conv1): Conv2d(512, 256, kernel_size=(1, 1), stride=(1, 1), bias=False)\n",
       "      (bn1): BatchNorm2d(256, eps=1e-05, momentum=0.1, affine=True, track_running_stats=True)\n",
       "      (conv2): Conv2d(256, 256, kernel_size=(3, 3), stride=(1, 1), padding=(1, 1), groups=32, bias=False)\n",
       "      (bn2): BatchNorm2d(256, eps=1e-05, momentum=0.1, affine=True, track_running_stats=True)\n",
       "      (conv3): Conv2d(256, 512, kernel_size=(1, 1), stride=(1, 1), bias=False)\n",
       "      (bn3): BatchNorm2d(512, eps=1e-05, momentum=0.1, affine=True, track_running_stats=True)\n",
       "      (relu): ReLU(inplace=True)\n",
       "    )\n",
       "  )\n",
       "  (layer3): Sequential(\n",
       "    (0): Bottleneck(\n",
       "      (conv1): Conv2d(512, 512, kernel_size=(1, 1), stride=(1, 1), bias=False)\n",
       "      (bn1): BatchNorm2d(512, eps=1e-05, momentum=0.1, affine=True, track_running_stats=True)\n",
       "      (conv2): Conv2d(512, 512, kernel_size=(3, 3), stride=(2, 2), padding=(1, 1), groups=32, bias=False)\n",
       "      (bn2): BatchNorm2d(512, eps=1e-05, momentum=0.1, affine=True, track_running_stats=True)\n",
       "      (conv3): Conv2d(512, 1024, kernel_size=(1, 1), stride=(1, 1), bias=False)\n",
       "      (bn3): BatchNorm2d(1024, eps=1e-05, momentum=0.1, affine=True, track_running_stats=True)\n",
       "      (relu): ReLU(inplace=True)\n",
       "      (downsample): Sequential(\n",
       "        (0): Conv2d(512, 1024, kernel_size=(1, 1), stride=(2, 2), bias=False)\n",
       "        (1): BatchNorm2d(1024, eps=1e-05, momentum=0.1, affine=True, track_running_stats=True)\n",
       "      )\n",
       "    )\n",
       "    (1): Bottleneck(\n",
       "      (conv1): Conv2d(1024, 512, kernel_size=(1, 1), stride=(1, 1), bias=False)\n",
       "      (bn1): BatchNorm2d(512, eps=1e-05, momentum=0.1, affine=True, track_running_stats=True)\n",
       "      (conv2): Conv2d(512, 512, kernel_size=(3, 3), stride=(1, 1), padding=(1, 1), groups=32, bias=False)\n",
       "      (bn2): BatchNorm2d(512, eps=1e-05, momentum=0.1, affine=True, track_running_stats=True)\n",
       "      (conv3): Conv2d(512, 1024, kernel_size=(1, 1), stride=(1, 1), bias=False)\n",
       "      (bn3): BatchNorm2d(1024, eps=1e-05, momentum=0.1, affine=True, track_running_stats=True)\n",
       "      (relu): ReLU(inplace=True)\n",
       "    )\n",
       "    (2): Bottleneck(\n",
       "      (conv1): Conv2d(1024, 512, kernel_size=(1, 1), stride=(1, 1), bias=False)\n",
       "      (bn1): BatchNorm2d(512, eps=1e-05, momentum=0.1, affine=True, track_running_stats=True)\n",
       "      (conv2): Conv2d(512, 512, kernel_size=(3, 3), stride=(1, 1), padding=(1, 1), groups=32, bias=False)\n",
       "      (bn2): BatchNorm2d(512, eps=1e-05, momentum=0.1, affine=True, track_running_stats=True)\n",
       "      (conv3): Conv2d(512, 1024, kernel_size=(1, 1), stride=(1, 1), bias=False)\n",
       "      (bn3): BatchNorm2d(1024, eps=1e-05, momentum=0.1, affine=True, track_running_stats=True)\n",
       "      (relu): ReLU(inplace=True)\n",
       "    )\n",
       "    (3): Bottleneck(\n",
       "      (conv1): Conv2d(1024, 512, kernel_size=(1, 1), stride=(1, 1), bias=False)\n",
       "      (bn1): BatchNorm2d(512, eps=1e-05, momentum=0.1, affine=True, track_running_stats=True)\n",
       "      (conv2): Conv2d(512, 512, kernel_size=(3, 3), stride=(1, 1), padding=(1, 1), groups=32, bias=False)\n",
       "      (bn2): BatchNorm2d(512, eps=1e-05, momentum=0.1, affine=True, track_running_stats=True)\n",
       "      (conv3): Conv2d(512, 1024, kernel_size=(1, 1), stride=(1, 1), bias=False)\n",
       "      (bn3): BatchNorm2d(1024, eps=1e-05, momentum=0.1, affine=True, track_running_stats=True)\n",
       "      (relu): ReLU(inplace=True)\n",
       "    )\n",
       "    (4): Bottleneck(\n",
       "      (conv1): Conv2d(1024, 512, kernel_size=(1, 1), stride=(1, 1), bias=False)\n",
       "      (bn1): BatchNorm2d(512, eps=1e-05, momentum=0.1, affine=True, track_running_stats=True)\n",
       "      (conv2): Conv2d(512, 512, kernel_size=(3, 3), stride=(1, 1), padding=(1, 1), groups=32, bias=False)\n",
       "      (bn2): BatchNorm2d(512, eps=1e-05, momentum=0.1, affine=True, track_running_stats=True)\n",
       "      (conv3): Conv2d(512, 1024, kernel_size=(1, 1), stride=(1, 1), bias=False)\n",
       "      (bn3): BatchNorm2d(1024, eps=1e-05, momentum=0.1, affine=True, track_running_stats=True)\n",
       "      (relu): ReLU(inplace=True)\n",
       "    )\n",
       "    (5): Bottleneck(\n",
       "      (conv1): Conv2d(1024, 512, kernel_size=(1, 1), stride=(1, 1), bias=False)\n",
       "      (bn1): BatchNorm2d(512, eps=1e-05, momentum=0.1, affine=True, track_running_stats=True)\n",
       "      (conv2): Conv2d(512, 512, kernel_size=(3, 3), stride=(1, 1), padding=(1, 1), groups=32, bias=False)\n",
       "      (bn2): BatchNorm2d(512, eps=1e-05, momentum=0.1, affine=True, track_running_stats=True)\n",
       "      (conv3): Conv2d(512, 1024, kernel_size=(1, 1), stride=(1, 1), bias=False)\n",
       "      (bn3): BatchNorm2d(1024, eps=1e-05, momentum=0.1, affine=True, track_running_stats=True)\n",
       "      (relu): ReLU(inplace=True)\n",
       "    )\n",
       "  )\n",
       "  (layer4): Sequential(\n",
       "    (0): Bottleneck(\n",
       "      (conv1): Conv2d(1024, 1024, kernel_size=(1, 1), stride=(1, 1), bias=False)\n",
       "      (bn1): BatchNorm2d(1024, eps=1e-05, momentum=0.1, affine=True, track_running_stats=True)\n",
       "      (conv2): Conv2d(1024, 1024, kernel_size=(3, 3), stride=(2, 2), padding=(1, 1), groups=32, bias=False)\n",
       "      (bn2): BatchNorm2d(1024, eps=1e-05, momentum=0.1, affine=True, track_running_stats=True)\n",
       "      (conv3): Conv2d(1024, 2048, kernel_size=(1, 1), stride=(1, 1), bias=False)\n",
       "      (bn3): BatchNorm2d(2048, eps=1e-05, momentum=0.1, affine=True, track_running_stats=True)\n",
       "      (relu): ReLU(inplace=True)\n",
       "      (downsample): Sequential(\n",
       "        (0): Conv2d(1024, 2048, kernel_size=(1, 1), stride=(2, 2), bias=False)\n",
       "        (1): BatchNorm2d(2048, eps=1e-05, momentum=0.1, affine=True, track_running_stats=True)\n",
       "      )\n",
       "    )\n",
       "    (1): Bottleneck(\n",
       "      (conv1): Conv2d(2048, 1024, kernel_size=(1, 1), stride=(1, 1), bias=False)\n",
       "      (bn1): BatchNorm2d(1024, eps=1e-05, momentum=0.1, affine=True, track_running_stats=True)\n",
       "      (conv2): Conv2d(1024, 1024, kernel_size=(3, 3), stride=(1, 1), padding=(1, 1), groups=32, bias=False)\n",
       "      (bn2): BatchNorm2d(1024, eps=1e-05, momentum=0.1, affine=True, track_running_stats=True)\n",
       "      (conv3): Conv2d(1024, 2048, kernel_size=(1, 1), stride=(1, 1), bias=False)\n",
       "      (bn3): BatchNorm2d(2048, eps=1e-05, momentum=0.1, affine=True, track_running_stats=True)\n",
       "      (relu): ReLU(inplace=True)\n",
       "    )\n",
       "    (2): Bottleneck(\n",
       "      (conv1): Conv2d(2048, 1024, kernel_size=(1, 1), stride=(1, 1), bias=False)\n",
       "      (bn1): BatchNorm2d(1024, eps=1e-05, momentum=0.1, affine=True, track_running_stats=True)\n",
       "      (conv2): Conv2d(1024, 1024, kernel_size=(3, 3), stride=(1, 1), padding=(1, 1), groups=32, bias=False)\n",
       "      (bn2): BatchNorm2d(1024, eps=1e-05, momentum=0.1, affine=True, track_running_stats=True)\n",
       "      (conv3): Conv2d(1024, 2048, kernel_size=(1, 1), stride=(1, 1), bias=False)\n",
       "      (bn3): BatchNorm2d(2048, eps=1e-05, momentum=0.1, affine=True, track_running_stats=True)\n",
       "      (relu): ReLU(inplace=True)\n",
       "    )\n",
       "  )\n",
       "  (avgpool): AdaptiveAvgPool2d(output_size=(1, 1))\n",
       "  (fc): Linear(in_features=2048, out_features=2, bias=True)\n",
       ")"
      ]
     },
     "execution_count": 5,
     "metadata": {},
     "output_type": "execute_result"
    }
   ],
   "source": [
    "rp = configs.get_result_path()\n",
    "result_path =  rp + hparams.experiment_id + '/'\n",
    "if not os.path.exists(result_path):\n",
    "    os.makedirs(result_path)\n",
    "print('-'*30)\n",
    "print('General settings')\n",
    "print('-'*30)\n",
    "\n",
    "print('Starting experiment ', hparams.experiment_id)\n",
    "device = torch.device('cuda:'+hparams.gpu if torch.cuda.is_available() else 'cpu')\n",
    "print('Using device ', device)\n",
    "print('Dataset: ', hparams.dataset)\n",
    "print('Mode: ', hparams.mode)\n",
    "print('Encoding: ', hparams.encoding_scheme)\n",
    "    \n",
    "# --------------------------\n",
    "# Load the data of the two cohorts \n",
    "# --------------------------\n",
    "file_path_lab2, csv_path_lab2, result_path_lab2 = configs.get_paths('lab2', hparams.experiment_id)\n",
    "file_path_lab1, csv_path_lab1, result_path_lab1 = configs.get_paths('lab1', hparams.experiment_id)\n",
    "metadata_lab2 = pd.read_csv(csv_path_lab2)\n",
    "metadata_lab2['lab'] = np.array([0]*len(metadata_lab2['slide_name']))\n",
    "metadata_lab1 = pd.read_csv(csv_path_lab1)\n",
    "metadata_lab1['lab'] = np.array([1]*len(metadata_lab1['slide_name']))\n",
    "    \n",
    "metadata = pd.DataFrame(\n",
    "{ 'slide_name': metadata_lab2.slide_name.tolist() + metadata_lab1.slide_name.tolist(), \n",
    " 'label': metadata_lab2.label.tolist() + metadata_lab1.label.tolist(), \n",
    " 'age': metadata_lab2.age.tolist() + metadata_lab1.age.tolist(), \n",
    " 'gender': metadata_lab2.gender.tolist() + metadata_lab1.gender.tolist(), \n",
    " 'location': metadata_lab2.location.tolist() + metadata_lab1.location.tolist(), \n",
    " 'UV': metadata_lab2.UV.tolist() + metadata_lab1.UV.tolist(), \n",
    " 'lab': metadata_lab2.lab.tolist() + metadata_lab1.lab.tolist()   \n",
    "})\n",
    "\n",
    "# --------------------------\n",
    "# Handling Missing data \n",
    "# --------------------------\n",
    "print('-'*30)\n",
    "print('Handling Missing data')\n",
    "print('-'*30)\n",
    "list_of_keys = ['age', 'gender', 'location', 'UV', 'label', 'lab']\n",
    "hparams.combined_metadata, hparams.labels_matrix = functions_v2.handling_missing_data(metadata, list_of_keys)\n",
    "print('-'*30)\n",
    "print('Take a look at the data:')\n",
    "print('-'*30)\n",
    "print(hparams.combined_metadata.head())\n",
    "\n",
    "# --------------------------\n",
    "# Get the sample list (paths to all slides in one list)\n",
    "# --------------------------\n",
    "samples_list = []\n",
    "for sn in metadata_lab2.slide_name: \n",
    "    samples_list.append(file_path_lab2 + '/' + str(sn))\n",
    "for sn in metadata_lab1.slide_name: \n",
    "    samples_list.append(file_path_lab1 + '/' + str(sn))\n",
    "print('Dataset includes {} slides'.format(len(samples_list)))\n",
    "hparams.samples_list = np.asarray(samples_list)\n",
    "   \n",
    "# --------------------------\n",
    "# Stratified data split (training, validation, test set creation)\n",
    "# --------------------------\n",
    "print('-'*30)\n",
    "print('Data splitting (stratificated)')\n",
    "print('-'*30)\n",
    "print('13 Folds are created among which the metadata is equally distributed. 2 folds are used for the validation, 4 for the test and the remaining for the training set ')\n",
    "path_set_folds, path_set_folds_indices = functions_v2.split_samples_with_sk_multilearn_v1(hparams.splits, hparams.rs, hparams.samples_list, hparams.labels_matrix, hparams.combined_metadata,\n",
    "                                                                                          result_path= result_path)\n",
    "# --------------------------\n",
    "# Encoding of the patient data  \n",
    "# --------------------------\n",
    "print('-'*30)\n",
    "print('Encoding')\n",
    "print('-'*30)\n",
    "hparams.combined_metadata = functions_v2.encodings_v1(hparams.combined_metadata, hparams.encoding_scheme)\n",
    "print(hparams.combined_metadata.head())\n",
    "\n",
    "# --------------------------\n",
    "# Transformations  \n",
    "# --------------------------\n",
    "data_transforms = {\n",
    "'train': transforms.Compose([\n",
    "    transforms.RandomResizedCrop(size=224, scale = (0.7,1.0)),\n",
    "    transforms.RandomAffine(degrees=0, translate=(0.1, 0.1), scale=(0.9, 1.0), shear=None),\n",
    "    transforms.ColorJitter(brightness=[0.9, 1.1], contrast=[0.9, 1.1], saturation=[0.9, 1.1], hue=0.01),\n",
    "    transforms.RandomHorizontalFlip(), # Vertical Flip? \n",
    "    transforms.ToTensor(),\n",
    "    transforms.Normalize([0.485, 0.456, 0.406], [0.229, 0.224, 0.225])\n",
    "]),\n",
    "'val': transforms.Compose([\n",
    "    transforms.Resize(256),\n",
    "    transforms.CenterCrop(224),\n",
    "    transforms.ToTensor(),\n",
    "    transforms.Normalize([0.485, 0.456, 0.406], [0.229, 0.224, 0.225])\n",
    "]), \n",
    "'test': transforms.Compose([\n",
    "    transforms.Resize(256),\n",
    "    transforms.CenterCrop(224),\n",
    "    transforms.ToTensor(),\n",
    "    transforms.Normalize([0.485, 0.456, 0.406], [0.229, 0.224, 0.225])\n",
    "    ])\n",
    "}\n",
    "\n",
    "# --------------------------\n",
    "# Create datasets\n",
    "# --------------------------\n",
    "print('-'*30)\n",
    "print('Creation of datasets: Sizes (#tiles)')\n",
    "print('-'*30)\n",
    "image_datasets = {}\n",
    "path_set = path_set_folds\n",
    "\n",
    "image_datasets['train'] = dataset_classes_v1.CustomizedDataset_Fusion(path_set = path_set['train'], metadata=hparams.combined_metadata, rs_tiles = hparams.rs, nr_tiles = 0,\n",
    "                                                                  transform=data_transforms['train'], non_image = hparams.metadata_list,  encoding_scheme = hparams.encoding_scheme)\n",
    "image_datasets['val'] = dataset_classes_v1.CustomizedDataset_Fusion(path_set = path_set['val'], metadata=hparams.combined_metadata, rs_tiles = hparams.rs, nr_tiles = 0,\n",
    "                                                                transform=data_transforms['val'], non_image = hparams.metadata_list,  encoding_scheme = hparams.encoding_scheme)\n",
    "image_datasets['test'] = dataset_classes_v1.CustomizedDataset_Fusion(path_set = path_set['test'], metadata=hparams.combined_metadata, rs_tiles = hparams.rs, nr_tiles = 0,\n",
    "                                                                 transform=data_transforms['test'],non_image = hparams.metadata_list,  encoding_scheme = hparams.encoding_scheme)\n",
    "print('Size Trainset:', len(image_datasets['train']))\n",
    "print('Size Validationset:', len(image_datasets['val']))\n",
    "print('Size Testset:', len(image_datasets['test']))\n",
    "\n",
    "# --------------------------\n",
    "# Create dataloaders\n",
    "# --------------------------\n",
    "dataloaders = {\n",
    "        'train': torch.utils.data.DataLoader(image_datasets['train'],batch_size=hparams.batch_size, shuffle=True, num_workers=hparams.num_workers, drop_last = True),\n",
    "        'val' : torch.utils.data.DataLoader(image_datasets['val'],batch_size=hparams.batch_size, shuffle= True, num_workers=hparams.num_workers, drop_last = True), \n",
    "        'test' : torch.utils.data.DataLoader(image_datasets['test'],batch_size=hparams.batch_size, shuffle= False, num_workers=hparams.num_workers,  drop_last = False)}\n",
    "\n",
    "# --------------------------\n",
    "# Model architecture\n",
    "# --------------------------\n",
    "print('-'*30)\n",
    "print('Model Baseline/Image feature extractor of fusion approaches')\n",
    "print('-'*30)\n",
    "model = torchvision.models.resnext50_32x4d(pretrained=True)\n",
    "\n",
    "# baseline and feature extractor for fusion approaches \n",
    "if hparams.mode == 'base': \n",
    "    print('Mode ', hparams.mode)\n",
    "    for param in model.parameters():\n",
    "        param.requires_grad = False\n",
    "    criterion = nn.CrossEntropyLoss()\n",
    "\n",
    "num_ftrs = model.fc.in_features\n",
    "model.fc = nn.Linear(num_ftrs, 2)\n",
    "\n",
    "if hparams.encoding_scheme == 'onehot': \n",
    "    meta_in = 0 \n",
    "    if 'age' in hparams.metadata_list: \n",
    "        meta_in += 2\n",
    "    if 'location' in hparams.metadata_list: \n",
    "        meta_in +=3\n",
    "    if 'gender' in hparams.metadata_list: \n",
    "        meta_in += 2\n",
    "    print('Encoding via onehot: meta_in parameter: ', meta_in)\n",
    "else: \n",
    "    meta_in = len(hparams.metadata_list)\n",
    "print('meta_in parameter (not relevant if mode is \"base\"): ', meta_in)\n",
    "\n",
    "model.to(device)\n",
    "print('load model .. ')\n",
    "model.load_state_dict(torch.load(model_paths,  map_location='cuda:0'))\n",
    "model.to(device)"
   ]
  },
  {
   "cell_type": "markdown",
   "metadata": {},
   "source": [
    "Metadata Classifier - Random Forest\n",
    "-----------------------"
   ]
  },
  {
   "cell_type": "code",
   "execution_count": 6,
   "metadata": {},
   "outputs": [
    {
     "name": "stdout",
     "output_type": "stream",
     "text": [
      "Best parameters: \n",
      "best_e = 121, best_depth = 5, best_max_feature = \"auto\" \n",
      "Val:  0.7152406417112299\n",
      "Test: 0.7195177956371986\n"
     ]
    }
   ],
   "source": [
    "train_x = []\n",
    "train_y = []\n",
    "test_x = []\n",
    "test_y = []\n",
    "val_x = []\n",
    "val_y = []\n",
    "\n",
    "for idx in path_set_folds_indices['train']:\n",
    "    train_x.append([hparams.combined_metadata[md][idx] for md in hparams.metadata_list])\n",
    "    train_y.append(hparams.combined_metadata.label[idx])\n",
    "for idx in path_set_folds_indices['val']:\n",
    "    val_x.append([hparams.combined_metadata[md][idx] for md in hparams.metadata_list])\n",
    "    val_y.append(hparams.combined_metadata.label[idx])\n",
    "for idx in path_set_folds_indices['test']:\n",
    "    test_x.append([hparams.combined_metadata[md][idx] for md in hparams.metadata_list])\n",
    "    test_y.append(hparams.combined_metadata.label[idx])\n",
    "\n",
    "# print('Choosing best hyperparameters...')\n",
    "# best_acc = 0 \n",
    "# for i in tqdm(range(1, 100)):\n",
    "#     for e in range(1,200,10):\n",
    "#            for mf in ['auto', 'sqrt', 'log2']: \n",
    "#                 clf_2 = RandomForestClassifier(n_estimators=e, max_depth=int(i), random_state=0, bootstrap =False, max_features= mf).fit(train_x, train_y)\n",
    "#                 clf_2.fit(train_x, train_y)\n",
    "#                 y_pred_rfc = clf_2.predict(val_x)\n",
    "#                 bal_acc_rfc =  balanced_accuracy_score(val_y, y_pred_rfc)\n",
    "#                 if best_acc < bal_acc_rfc: \n",
    "#                     print(bal_acc_rfc)\n",
    "#                     best_acc = bal_acc_rfc\n",
    "#                     best_depth = i \n",
    "#                     best_e = e \n",
    "#                     best_max_feature = mf\n",
    "# # saving results\n",
    "# print(best_e, best_depth, best_max_feature, best_acc)\n",
    "print('Best parameters: ')\n",
    "print('best_e = 121, best_depth = 5, best_max_feature = \"auto\" ')\n",
    "best_e = 121\n",
    "best_depth = 5\n",
    "best_max_feature = 'auto'\n",
    "\n",
    "RFC = RandomForestClassifier(n_estimators=best_e , max_depth=best_depth, random_state=0, bootstrap =False, max_features= best_max_feature).fit(train_x, train_y)\n",
    "y_pred = RFC.predict(val_x)\n",
    "bal_acc_RFC =  balanced_accuracy_score(val_y, y_pred)\n",
    "print('Val: ', bal_acc_RFC)\n",
    "\n",
    "y_pred = RFC.predict(test_x)\n",
    "bal_acc_RFC =  balanced_accuracy_score(test_y, y_pred)\n",
    "print('Test:', bal_acc_RFC)"
   ]
  },
  {
   "cell_type": "markdown",
   "metadata": {},
   "source": [
    "Results of the base and the fusion approaches over all five runs \n",
    "-----------------"
   ]
  },
  {
   "cell_type": "code",
   "execution_count": 9,
   "metadata": {},
   "outputs": [
    {
     "name": "stdout",
     "output_type": "stream",
     "text": [
      "Approaches dependent parameters:\n",
      "Approaches: base, weighted, CAT, SE \n",
      "hidden1:    -,    2048,    512,  2048\n",
      "meta_out:   -,    512,     256,  2048 \n"
     ]
    },
    {
     "name": "stderr",
     "output_type": "stream",
     "text": [
      "  0%|          | 0/191 [00:00<?, ?it/s]"
     ]
    },
    {
     "name": "stdout",
     "output_type": "stream",
     "text": [
      "Mode  approach_2\n",
      "3 2048\n",
      "Results for the test set\n"
     ]
    },
    {
     "name": "stderr",
     "output_type": "stream",
     "text": [
      "100%|██████████| 191/191 [00:34<00:00,  5.50it/s]\n",
      "  0%|          | 0/191 [00:00<?, ?it/s]"
     ]
    },
    {
     "name": "stdout",
     "output_type": "stream",
     "text": [
      "Phase test, bal_acc_tiles 0.73722, bal_acc_slides 0.75568\n",
      "Results for the test set\n"
     ]
    },
    {
     "name": "stderr",
     "output_type": "stream",
     "text": [
      "100%|██████████| 191/191 [00:34<00:00,  5.48it/s]\n",
      "  0%|          | 0/191 [00:00<?, ?it/s]"
     ]
    },
    {
     "name": "stdout",
     "output_type": "stream",
     "text": [
      "Phase test, bal_acc_tiles 0.66128, bal_acc_slides 0.65522\n",
      "Results for the test set\n"
     ]
    },
    {
     "name": "stderr",
     "output_type": "stream",
     "text": [
      "100%|██████████| 191/191 [00:35<00:00,  5.43it/s]\n",
      "  0%|          | 0/191 [00:00<?, ?it/s]"
     ]
    },
    {
     "name": "stdout",
     "output_type": "stream",
     "text": [
      "Phase test, bal_acc_tiles 0.68403, bal_acc_slides 0.67830\n",
      "Results for the test set\n"
     ]
    },
    {
     "name": "stderr",
     "output_type": "stream",
     "text": [
      "100%|██████████| 191/191 [00:35<00:00,  5.43it/s]\n",
      "  0%|          | 0/191 [00:00<?, ?it/s]"
     ]
    },
    {
     "name": "stdout",
     "output_type": "stream",
     "text": [
      "Phase test, bal_acc_tiles 0.73132, bal_acc_slides 0.73261\n",
      "Results for the test set\n"
     ]
    },
    {
     "name": "stderr",
     "output_type": "stream",
     "text": [
      "100%|██████████| 191/191 [00:35<00:00,  5.43it/s]\n"
     ]
    },
    {
     "name": "stdout",
     "output_type": "stream",
     "text": [
      "Phase test, bal_acc_tiles 0.64478, bal_acc_slides 0.63192\n"
     ]
    },
    {
     "name": "stderr",
     "output_type": "stream",
     "text": [
      "  0%|          | 0/191 [00:00<?, ?it/s]"
     ]
    },
    {
     "name": "stdout",
     "output_type": "stream",
     "text": [
      "Mode  approach_1\n",
      "3 256 512\n",
      "Results for the test set\n"
     ]
    },
    {
     "name": "stderr",
     "output_type": "stream",
     "text": [
      "100%|██████████| 191/191 [00:35<00:00,  5.42it/s]\n",
      "  0%|          | 0/191 [00:00<?, ?it/s]"
     ]
    },
    {
     "name": "stdout",
     "output_type": "stream",
     "text": [
      "Phase test, bal_acc_tiles 0.76289, bal_acc_slides 0.77061\n",
      "Results for the test set\n"
     ]
    },
    {
     "name": "stderr",
     "output_type": "stream",
     "text": [
      "100%|██████████| 191/191 [00:35<00:00,  5.41it/s]\n",
      "  0%|          | 0/191 [00:00<?, ?it/s]"
     ]
    },
    {
     "name": "stdout",
     "output_type": "stream",
     "text": [
      "Phase test, bal_acc_tiles 0.74807, bal_acc_slides 0.79346\n",
      "Results for the test set\n"
     ]
    },
    {
     "name": "stderr",
     "output_type": "stream",
     "text": [
      "100%|██████████| 191/191 [00:35<00:00,  5.39it/s]\n",
      "  0%|          | 0/191 [00:00<?, ?it/s]"
     ]
    },
    {
     "name": "stdout",
     "output_type": "stream",
     "text": [
      "Phase test, bal_acc_tiles 0.75999, bal_acc_slides 0.78622\n",
      "Results for the test set\n"
     ]
    },
    {
     "name": "stderr",
     "output_type": "stream",
     "text": [
      "100%|██████████| 191/191 [00:35<00:00,  5.38it/s]\n",
      "  0%|          | 0/191 [00:00<?, ?it/s]"
     ]
    },
    {
     "name": "stdout",
     "output_type": "stream",
     "text": [
      "Phase test, bal_acc_tiles 0.75465, bal_acc_slides 0.80184\n",
      "Results for the test set\n"
     ]
    },
    {
     "name": "stderr",
     "output_type": "stream",
     "text": [
      "100%|██████████| 191/191 [00:35<00:00,  5.39it/s]\n"
     ]
    },
    {
     "name": "stdout",
     "output_type": "stream",
     "text": [
      "Phase test, bal_acc_tiles 0.75506, bal_acc_slides 0.78599\n"
     ]
    },
    {
     "name": "stderr",
     "output_type": "stream",
     "text": [
      "  0%|          | 0/191 [00:00<?, ?it/s]"
     ]
    },
    {
     "name": "stdout",
     "output_type": "stream",
     "text": [
      "Mode  approach_3\n",
      "3 2048 2048\n",
      "3 2048 0.3 2048 0.5\n",
      "Results for the test set\n"
     ]
    },
    {
     "name": "stderr",
     "output_type": "stream",
     "text": [
      "100%|██████████| 191/191 [00:35<00:00,  5.40it/s]\n",
      "  0%|          | 0/191 [00:00<?, ?it/s]"
     ]
    },
    {
     "name": "stdout",
     "output_type": "stream",
     "text": [
      "Phase test, bal_acc_tiles 0.78366, bal_acc_slides 0.84168\n",
      "Results for the test set\n"
     ]
    },
    {
     "name": "stderr",
     "output_type": "stream",
     "text": [
      "100%|██████████| 191/191 [00:35<00:00,  5.37it/s]\n",
      "  0%|          | 0/191 [00:00<?, ?it/s]"
     ]
    },
    {
     "name": "stdout",
     "output_type": "stream",
     "text": [
      "Phase test, bal_acc_tiles 0.77969, bal_acc_slides 0.84237\n",
      "Results for the test set\n"
     ]
    },
    {
     "name": "stderr",
     "output_type": "stream",
     "text": [
      "100%|██████████| 191/191 [00:35<00:00,  5.38it/s]\n",
      "  0%|          | 0/191 [00:00<?, ?it/s]"
     ]
    },
    {
     "name": "stdout",
     "output_type": "stream",
     "text": [
      "Phase test, bal_acc_tiles 0.77138, bal_acc_slides 0.84237\n",
      "Results for the test set\n"
     ]
    },
    {
     "name": "stderr",
     "output_type": "stream",
     "text": [
      "100%|██████████| 191/191 [00:35<00:00,  5.37it/s]\n",
      "  0%|          | 0/191 [00:00<?, ?it/s]"
     ]
    },
    {
     "name": "stdout",
     "output_type": "stream",
     "text": [
      "Phase test, bal_acc_tiles 0.78026, bal_acc_slides 0.81068\n",
      "Results for the test set\n"
     ]
    },
    {
     "name": "stderr",
     "output_type": "stream",
     "text": [
      "100%|██████████| 191/191 [00:35<00:00,  5.37it/s]\n"
     ]
    },
    {
     "name": "stdout",
     "output_type": "stream",
     "text": [
      "Phase test, bal_acc_tiles 0.77616, bal_acc_slides 0.81137\n"
     ]
    },
    {
     "name": "stderr",
     "output_type": "stream",
     "text": [
      "  0%|          | 0/66 [00:00<?, ?it/s]"
     ]
    },
    {
     "name": "stdout",
     "output_type": "stream",
     "text": [
      "Mode  base\n",
      "Results for the validation set\n"
     ]
    },
    {
     "name": "stderr",
     "output_type": "stream",
     "text": [
      "100%|██████████| 66/66 [00:13<00:00,  5.08it/s]\n",
      "  0%|          | 0/191 [00:00<?, ?it/s]"
     ]
    },
    {
     "name": "stdout",
     "output_type": "stream",
     "text": [
      "Phase val, bal_acc_tiles 0.76721, bal_acc_slides 0.86497\n",
      "Results for the test set\n"
     ]
    },
    {
     "name": "stderr",
     "output_type": "stream",
     "text": [
      "100%|██████████| 191/191 [00:35<00:00,  5.38it/s]\n",
      "  0%|          | 0/66 [00:00<?, ?it/s]"
     ]
    },
    {
     "name": "stdout",
     "output_type": "stream",
     "text": [
      "Phase test, bal_acc_tiles 0.73856, bal_acc_slides 0.82698\n",
      "Results for the validation set\n"
     ]
    },
    {
     "name": "stderr",
     "output_type": "stream",
     "text": [
      "100%|██████████| 66/66 [00:13<00:00,  5.07it/s]\n",
      "  0%|          | 0/191 [00:00<?, ?it/s]"
     ]
    },
    {
     "name": "stdout",
     "output_type": "stream",
     "text": [
      "Phase val, bal_acc_tiles 0.76705, bal_acc_slides 0.86497\n",
      "Results for the test set\n"
     ]
    },
    {
     "name": "stderr",
     "output_type": "stream",
     "text": [
      "100%|██████████| 191/191 [00:35<00:00,  5.36it/s]\n",
      "  0%|          | 0/66 [00:00<?, ?it/s]"
     ]
    },
    {
     "name": "stdout",
     "output_type": "stream",
     "text": [
      "Phase test, bal_acc_tiles 0.74001, bal_acc_slides 0.83490\n",
      "Results for the validation set\n"
     ]
    },
    {
     "name": "stderr",
     "output_type": "stream",
     "text": [
      "100%|██████████| 66/66 [00:13<00:00,  5.06it/s]\n",
      "  0%|          | 0/191 [00:00<?, ?it/s]"
     ]
    },
    {
     "name": "stdout",
     "output_type": "stream",
     "text": [
      "Phase val, bal_acc_tiles 0.76839, bal_acc_slides 0.84982\n",
      "Results for the test set\n"
     ]
    },
    {
     "name": "stderr",
     "output_type": "stream",
     "text": [
      "100%|██████████| 191/191 [00:35<00:00,  5.38it/s]\n",
      "  0%|          | 0/66 [00:00<?, ?it/s]"
     ]
    },
    {
     "name": "stdout",
     "output_type": "stream",
     "text": [
      "Phase test, bal_acc_tiles 0.74054, bal_acc_slides 0.83467\n",
      "Results for the validation set\n"
     ]
    },
    {
     "name": "stderr",
     "output_type": "stream",
     "text": [
      "100%|██████████| 66/66 [00:13<00:00,  5.07it/s]\n",
      "  0%|          | 0/191 [00:00<?, ?it/s]"
     ]
    },
    {
     "name": "stdout",
     "output_type": "stream",
     "text": [
      "Phase val, bal_acc_tiles 0.76431, bal_acc_slides 0.84982\n",
      "Results for the test set\n"
     ]
    },
    {
     "name": "stderr",
     "output_type": "stream",
     "text": [
      "100%|██████████| 191/191 [00:35<00:00,  5.38it/s]\n",
      "  0%|          | 0/66 [00:00<?, ?it/s]"
     ]
    },
    {
     "name": "stdout",
     "output_type": "stream",
     "text": [
      "Phase test, bal_acc_tiles 0.73933, bal_acc_slides 0.83490\n",
      "Results for the validation set\n"
     ]
    },
    {
     "name": "stderr",
     "output_type": "stream",
     "text": [
      "100%|██████████| 66/66 [00:13<00:00,  5.06it/s]\n",
      "  0%|          | 0/191 [00:00<?, ?it/s]"
     ]
    },
    {
     "name": "stdout",
     "output_type": "stream",
     "text": [
      "Phase val, bal_acc_tiles 0.76888, bal_acc_slides 0.84982\n",
      "Results for the test set\n"
     ]
    },
    {
     "name": "stderr",
     "output_type": "stream",
     "text": [
      "100%|██████████| 191/191 [00:35<00:00,  5.37it/s]"
     ]
    },
    {
     "name": "stdout",
     "output_type": "stream",
     "text": [
      "Phase test, bal_acc_tiles 0.74195, bal_acc_slides 0.82698\n"
     ]
    },
    {
     "name": "stderr",
     "output_type": "stream",
     "text": [
      "\n"
     ]
    }
   ],
   "source": [
    "# weighted \n",
    "hparams_weighted = copy.copy(hparams)\n",
    "hparams_weighted.experiment_id = 'cfgs17'\n",
    "hparams_weighted.mode = 'approach_2'\n",
    "hparams_weighted.hidden1 = 2048\n",
    "hparams_weighted.meta_out = 512\n",
    "\n",
    "# CAT\n",
    "hparams_cat = copy.copy(hparams)\n",
    "hparams_cat.experiment_id = 'cfgs5'\n",
    "hparams_cat.mode = 'approach_1'\n",
    "hparams_cat.hidden1 = 512\n",
    "hparams_cat.meta_out = 256\n",
    "\n",
    "# SE\n",
    "hparams_se = copy.copy(hparams)\n",
    "hparams_se.experiment_id = 'cfgs8'\n",
    "hparams_se.mode = 'approach_3'\n",
    "hparams_se.hidden1 = 2048\n",
    "hparams_se.meta_out = 2048\n",
    "\n",
    "print('Approaches dependent parameters:')\n",
    "print('Approaches: base, weighted, CAT, SE ')\n",
    "print('hidden1:    -,    2048,    512,  2048')\n",
    "print('meta_out:   -,    512,     256,  2048 ')\n",
    "results_over_folds_test = {}\n",
    "results_over_folds_val = {}\n",
    "#print('Selected:', hparams.mode)\n",
    "for hp in [hparams_weighted, hparams_cat, hparams_se, hparams]: \n",
    "    model = torchvision.models.resnext50_32x4d(pretrained=True)\n",
    "    num_ftrs = model.fc.in_features\n",
    "    model.fc = nn.Linear(num_ftrs, 2)\n",
    "    \n",
    "        # CAT-appraoch \n",
    "    if hp.mode == 'approach_1': \n",
    "        print('Mode ', hp.mode)\n",
    "        print(meta_in, hp.meta_out, hp.hidden1)\n",
    "        model = mymodels.FusionNet(model, meta_in = meta_in, meta_out = hp.meta_out, hidden1 = hp.hidden1, reduction = 1024)\n",
    "        criterion = nn.CrossEntropyLoss()\n",
    "\n",
    "    # weighted approach\n",
    "    if hp.mode == 'approach_2':\n",
    "        print('Mode ', hp.mode)\n",
    "        print(meta_in, hp.hidden1)\n",
    "        model = mymodels.FusionNet_importance(model, meta_in = meta_in, meta_out = hp.meta_out, hidden=hp.hidden1)\n",
    "        criterion = nn.BCELoss()\n",
    "\n",
    "    # SE-approach \n",
    "    if hp.mode == 'approach_3':\n",
    "        print('Mode ', hp.mode)\n",
    "        hp.meta_out = num_ftrs\n",
    "        print(meta_in, hp.meta_out, hp.hidden1)\n",
    "        model = mymodels.FusionNet_SEMul(model, meta_in = meta_in, meta_out = hp.meta_out, hidden1=hp.hidden1)\n",
    "        criterion = nn.BCELoss() \n",
    "        \n",
    "    if hp.mode == 'base':\n",
    "        print('Mode ', hp.mode)\n",
    "        criterion = nn.CrossEntropyLoss()\n",
    "\n",
    "   \n",
    "    for fold in range(0,5): \n",
    "        path = configs.get_path_to_trained_model(hp.mode)\n",
    "        model_paths = path+str(fold)\n",
    "        model.to(device)\n",
    "        model.load_state_dict(torch.load(model_paths,  map_location='cuda:0'))\n",
    "        model.to(device)\n",
    "        mode = hp.mode\n",
    "        test_results_DK = {}\n",
    "        \n",
    "        if hp.mode == \"base\": \n",
    "            phase = 'val'\n",
    "            print('Results for the validation set')\n",
    "            # check whether val or test is calculated!! \n",
    "            test_results_DK, y_scores, slides_label, slides_preds, slides_output, slides_included  = functions_v2.test_loop_v2(model, dataloaders, criterion, image_datasets, test_results_DK, device, fold, mode, phase=phase)\n",
    "            results_over_folds_val['fold_'+str(fold)] = {'results': test_results_DK, 'slides_label': slides_label, 'slides_preds': slides_preds, 'slides_output': slides_output, 'slides_included': slides_included}\n",
    "    \n",
    "\n",
    "        print('Results for the test set')\n",
    "        phase = 'test'\n",
    "        # check whether val or test is calculated!! \n",
    "        test_results_DK, y_scores, slides_label, slides_preds, slides_output, slides_included  = functions_v2.test_loop_v2(model, dataloaders, criterion, image_datasets, test_results_DK, device, fold, mode, phase=phase)\n",
    "        results_over_folds_test[str(hp.mode) + '_fold_'+str(fold)] = {'results': test_results_DK, 'slides_label': slides_label, 'slides_preds': slides_preds, 'slides_output': slides_output, 'slides_included': slides_included}\n"
   ]
  },
  {
   "cell_type": "code",
   "execution_count": 10,
   "metadata": {},
   "outputs": [
    {
     "name": "stdout",
     "output_type": "stream",
     "text": [
      "AUROCs may vary a little since the algorithm is not 100% deterministic\n",
      "Results for  weighted\n",
      "AUROC: 83.17 % +/- 1.07 %\n",
      "BA: 69.07 % +/- 4.66 %\n",
      "Results for  CAT\n",
      "AUROC: 90.69 % +/- 0.33 %\n",
      "BA: 78.76 % +/- 1.03 %\n",
      "Results for  SE\n",
      "AUROC: 89.66 % +/- 0.35 %\n",
      "BA: 82.97 % +/- 1.52 %\n",
      "Results for  base\n",
      "AUROC: 92.28 % +/- 0.23 %\n",
      "BA: 83.17 % +/- 0.38 %\n"
     ]
    }
   ],
   "source": [
    "names = ['weighted', 'CAT', 'SE', 'base']\n",
    "params = [hparams_weighted, hparams_cat, hparams_se, hparams]\n",
    "print('AUROCs may vary a little since the algorithm is not 100% deterministic')\n",
    "for hp, n in zip(params, names): \n",
    "    print('Results for ', n)\n",
    "    aucs_over_folds = []\n",
    "    bas_over_folds = []\n",
    "    for fold in range(0,5): \n",
    "        slides_preds = np.asarray(results_over_folds_test[hp.mode + '_fold_' + str(fold)]['slides_preds']) \n",
    "        slides_labels = np.asarray(results_over_folds_test[hp.mode + '_fold_' + str(fold)]['slides_label']) \n",
    "        slides_output = np.asarray(results_over_folds_test[hp.mode + '_fold_' + str(fold)]['slides_output']) \n",
    "        scores = []\n",
    "        if hp.mode in ['base', 'approach_1']:\n",
    "            scores = [score[p] if p == 1 else 1-score[p] for score,p in zip(slides_output, slides_preds)]\n",
    "            auc =  roc_auc_score(slides_labels, scores)\n",
    "        else:\n",
    "            auc =  roc_auc_score(slides_labels, slides_output)\n",
    "        scores = np.asarray(scores)\n",
    "        aucs_over_folds.append(auc)\n",
    "        bas_over_folds.append(balanced_accuracy_score(slides_labels, slides_preds))\n",
    "    print('AUROC: {} % +/- {} %'.format(round(np.mean(aucs_over_folds)*100,2), round(np.std(aucs_over_folds)*100,2)))\n",
    "    print('BA: {} % +/- {} %'.format(round(np.mean(bas_over_folds)*100,2), round(np.std(bas_over_folds)*100,2)))\n",
    "    "
   ]
  },
  {
   "cell_type": "markdown",
   "metadata": {},
   "source": [
    "Naive Approach: Parameter Setting (Supplementary Figure 2 and Figure 2 of Publication)\n",
    "-----------------------------------"
   ]
  },
  {
   "cell_type": "code",
   "execution_count": 11,
   "metadata": {},
   "outputs": [],
   "source": [
    "def threshold_determination(phase):   \n",
    "    print('Conbare: Threshold | Perf_base (Base on subset)   | Perf_fusion (md on subset)')\n",
    "    ba_base_subs_means = []\n",
    "    ba_base_subs_std = []\n",
    "    bal_acc_fusion_means = []\n",
    "    bal_acc_fusion_std = []\n",
    "    ba_md_subs_means = []\n",
    "    ba_md_subs_std = []\n",
    "    slides_included_all_v = []\n",
    "    V = [0.6,0.65, 0.7, 0.75, 0.8, 0.85, 0.9, 0.95, 1.0]\n",
    "    nbr_insecure_slides_v = []\n",
    "    for v in V:\n",
    "        bal_acc_base = []\n",
    "        bal_acc_fusion = []\n",
    "        ba_base_subs = []\n",
    "        ba_md_subs = []\n",
    "        slides_included_all_folds = []\n",
    "        number_of_insecure_slides = []\n",
    "        for fold in range(0,5):\n",
    "            if phase == 'val': \n",
    "                slides_preds = np.asarray(results_over_folds_val['fold_'+str(fold)]['slides_preds']) \n",
    "                slides_labels = np.asarray(results_over_folds_val['fold_'+str(fold)]['slides_label']) \n",
    "                slides_output = np.asarray(results_over_folds_val['fold_'+str(fold)]['slides_output']) \n",
    "                slides_included = np.asarray(results_over_folds_val['fold_'+str(fold)]['slides_included']) \n",
    "            else: \n",
    "                slides_preds = np.asarray(results_over_folds_test['base_fold_' + str(fold)]['slides_preds']) \n",
    "                slides_labels = np.asarray(results_over_folds_test['base_fold_' + str(fold)]['slides_label']) \n",
    "                slides_output = np.asarray(results_over_folds_test['base_fold_' + str(fold)]['slides_output']) \n",
    "                slides_included = np.asarray(results_over_folds_test['base_fold_' + str(fold)]['slides_included']) \n",
    "            test_x = []\n",
    "            test_y = []\n",
    "            for idx in slides_included :\n",
    "                test_x.append([hparams.combined_metadata[md][idx] for md in  ['age', 'gender', 'location']])\n",
    "                test_y.append(hparams.combined_metadata.label[idx])\n",
    "            y_pred_rf = RFC.predict(test_x)\n",
    "            rf_scores = RFC.predict_proba(test_x)\n",
    "            scores = []\n",
    "            for sp, so in zip(slides_preds, slides_output):\n",
    "                    scores.append(so[sp])\n",
    "            scores = np.asarray(scores)\n",
    "            y_comb = []\n",
    "            labels = []\n",
    "            base_subs = []\n",
    "            md_subs = []\n",
    "            insecure_slides = []\n",
    "            for c, s in enumerate(scores): \n",
    "                if s <= v: \n",
    "                    y_comb.append(y_pred_rf[c])\n",
    "                    base_subs.append(slides_preds[c])\n",
    "                    labels.append(slides_labels[c])\n",
    "                    md_subs.append(y_pred_rf[c])\n",
    "                    insecure_slides.append(hparams.combined_metadata.slide_name[slides_included[c]])\n",
    "                else: \n",
    "                    y_comb.append(slides_preds[c])\n",
    "\n",
    "            y_comb = np.asarray(y_comb)\n",
    "            base_subs = np.asarray(base_subs)\n",
    "            md_subs = np.asarray(md_subs)\n",
    "            labels = np.asarray(labels)\n",
    "            bal_acc_base.append(balanced_accuracy_score(slides_labels, slides_preds))\n",
    "            bal_acc_fusion.append(balanced_accuracy_score(slides_labels, y_comb))\n",
    "            ba_base_subs.append(balanced_accuracy_score(labels, base_subs))\n",
    "            ba_md_subs.append(balanced_accuracy_score(labels, md_subs))\n",
    "            slides_included_all_folds.append(insecure_slides)\n",
    "            number_of_insecure_slides.append(len(base_subs))\n",
    "        slides_included_all_v.append(slides_included_all_folds)\n",
    "        bal_acc_base = np.asarray(bal_acc_base)\n",
    "        bal_acc_fusion = np.asarray(bal_acc_fusion)\n",
    "        ba_base_subs = np.asarray(ba_base_subs)\n",
    "        ba_md_subs = np.asarray(ba_md_subs)\n",
    "        nbr_insecure_slides_v.append(number_of_insecure_slides)\n",
    "        print('Combare:  s={}:   {} +/- {} ({} +/-{})   |  {} +/- {} ({} +/- {})'.format(v, \n",
    "                                                                     round(np.mean(bal_acc_base)*100, 2),\n",
    "                                                                     round(np.std(bal_acc_base)*100,2),\n",
    "                                                                     round(np.mean(ba_base_subs)*100,2),\n",
    "                                                                     round(np.std(ba_base_subs)*100,2), \n",
    "                                                                     round(np.mean(bal_acc_fusion)*100,2), \n",
    "                                                                     round(np.std(bal_acc_fusion)*100,2),\n",
    "                                                                     round(np.mean(ba_md_subs)*100,2), \n",
    "                                                                     round(np.std(ba_md_subs)*100,2)))\n",
    "\n",
    "        ba_base_subs_means.append(np.mean(ba_base_subs))\n",
    "        ba_base_subs_std.append(np.std(ba_base_subs))\n",
    "        bal_acc_fusion_means.append(np.mean(bal_acc_fusion))\n",
    "        bal_acc_fusion_std.append(np.std(bal_acc_fusion))\n",
    "        ba_md_subs_means.append(np.mean(ba_md_subs))\n",
    "        ba_md_subs_std.append(np.std(ba_md_subs))#\n",
    "\n",
    "    ba_base_subs_means = np.asarray(ba_base_subs_means)\n",
    "    ba_base_subs_std = np.asarray(ba_base_subs_std)\n",
    "    bal_acc_fusion_means = np.asarray(bal_acc_fusion_means)\n",
    "    bal_acc_fusion_std = np.asarray(bal_acc_fusion_std)\n",
    "    ba_md_subs_means= np.asarray(ba_md_subs_means)\n",
    "    ba_md_subs_std = np.asarray(ba_md_subs_std)\n",
    "    \n",
    "    nis_means = [np.mean(np.asarray(counts)) for counts in nbr_insecure_slides_v] # number of insecure slides\n",
    "    x = V\n",
    "    fig, ax = plt.subplots()\n",
    " \n",
    "    ax.plot(x,  ba_base_subs_means, label = 'image classifier')\n",
    "    ax.fill_between(x,  ba_base_subs_means - ba_base_subs_std,  ba_base_subs_means + ba_base_subs_std, color='gray', alpha=0.2)\n",
    "    ax.plot(x, ba_md_subs_means, label = 'patient data classifier')\n",
    "    if phase == 'val': \n",
    "        ax.fill_between(x, ba_md_subs_means - ba_md_subs_std, ba_md_subs_means + ba_md_subs_std, color='gray', alpha=0.2)\n",
    "        plt.plot(x, bal_acc_fusion_means, label = 'naive approach')\n",
    "    ax.set_ylabel('BA [-]')\n",
    "    ax.set_xlabel('threshold output score')\n",
    "    ax.legend(loc='lower center')\n",
    "    ax.set_ylim(0.55, 1.01)\n",
    "\n",
    "    ax2 = ax.twinx()\n",
    "    color = 'tab:grey'\n",
    "    nis_means = [np.mean(np.asarray(counts)) for counts in nbr_insecure_slides_v]\n",
    "    ax2.plot( x , nis_means, color=color, linestyle = 'dashed') \n",
    "    ax2.set_ylabel('#uncertain slides', color=color)\n",
    "    ax2.tick_params(axis='y', labelcolor=color)"
   ]
  },
  {
   "cell_type": "code",
   "execution_count": 12,
   "metadata": {},
   "outputs": [
    {
     "name": "stdout",
     "output_type": "stream",
     "text": [
      "Conbare: Threshold | Perf_base (Base on subset)   | Perf_fusion (md on subset)\n",
      "Combare:  s=0.6:   85.59 +/- 0.74 (60.29 +/-5.87)   |  86.45 +/- 0.0 (61.81 +/- 3.9)\n",
      "Combare:  s=0.65:   85.59 +/- 0.74 (63.64 +/-5.1)   |  88.57 +/- 1.21 (77.36 +/- 2.98)\n",
      "Combare:  s=0.7:   85.59 +/- 0.74 (69.27 +/-3.35)   |  90.09 +/- 0.74 (84.63 +/- 0.27)\n",
      "Combare:  s=0.75:   85.59 +/- 0.74 (78.0 +/-1.99)   |  84.69 +/- 0.59 (76.08 +/- 0.84)\n",
      "Combare:  s=0.8:   85.59 +/- 0.74 (81.12 +/-1.38)   |  80.53 +/- 0.02 (73.01 +/- 0.84)\n",
      "Combare:  s=0.85:   85.59 +/- 0.74 (81.56 +/-1.39)   |  78.71 +/- 1.48 (71.47 +/- 0.86)\n",
      "Combare:  s=0.9:   85.59 +/- 0.74 (83.86 +/-1.03)   |  73.88 +/- 0.72 (69.25 +/- 0.83)\n",
      "Combare:  s=0.95:   85.59 +/- 0.74 (84.82 +/-0.79)   |  72.99 +/- 0.0 (71.51 +/- 0.13)\n",
      "Combare:  s=1.0:   85.59 +/- 0.74 (85.59 +/-0.74)   |  71.52 +/- 0.0 (71.52 +/- 0.0)\n"
     ]
    },
    {
     "data": {
      "image/png": "[encoded data removed]",
      "text/plain": [
       "<Figure size 432x288 with 2 Axes>"
      ]
     },
     "metadata": {
      "needs_background": "light"
     },
     "output_type": "display_data"
    }
   ],
   "source": [
    "threshold_determination('val')"
   ]
  },
  {
   "cell_type": "code",
   "execution_count": 13,
   "metadata": {},
   "outputs": [
    {
     "name": "stdout",
     "output_type": "stream",
     "text": [
      "Conbare: Threshold | Perf_base (Base on subset)   | Perf_fusion (md on subset)\n",
      "Combare:  s=0.6:   83.17 +/- 0.38 (64.42 +/-2.46)   |  87.47 +/- 0.37 (80.69 +/- 1.15)\n",
      "Combare:  s=0.65:   83.17 +/- 0.38 (71.18 +/-2.53)   |  87.19 +/- 0.81 (82.06 +/- 2.05)\n",
      "Combare:  s=0.7:   83.17 +/- 0.38 (72.02 +/-0.9)   |  86.72 +/- 0.36 (78.21 +/- 1.18)\n",
      "Combare:  s=0.75:   83.17 +/- 0.38 (72.92 +/-0.91)   |  85.64 +/- 0.69 (75.65 +/- 1.32)\n",
      "Combare:  s=0.8:   83.17 +/- 0.38 (76.58 +/-0.92)   |  82.13 +/- 0.78 (73.57 +/- 0.87)\n",
      "Combare:  s=0.85:   83.17 +/- 0.38 (79.27 +/-0.69)   |  78.61 +/- 0.31 (72.94 +/- 0.24)\n",
      "Combare:  s=0.9:   83.17 +/- 0.38 (81.5 +/-0.26)   |  75.4 +/- 0.78 (73.17 +/- 0.31)\n",
      "Combare:  s=0.95:   83.17 +/- 0.38 (82.89 +/-0.45)   |  73.0 +/- 0.76 (72.74 +/- 0.58)\n",
      "Combare:  s=1.0:   83.17 +/- 0.38 (83.17 +/-0.38)   |  71.95 +/- 0.0 (71.95 +/- 0.0)\n"
     ]
    },
    {
     "data": {
      "image/png": "[encoded data removed]",
      "text/plain": [
       "<Figure size 432x288 with 2 Axes>"
      ]
     },
     "metadata": {
      "needs_background": "light"
     },
     "output_type": "display_data"
    }
   ],
   "source": [
    "threshold_determination('test')"
   ]
  },
  {
   "cell_type": "markdown",
   "metadata": {},
   "source": [
    "Naive Approach: Results (s <= 0.7)\n",
    "----------------"
   ]
  },
  {
   "cell_type": "code",
   "execution_count": 15,
   "metadata": {},
   "outputs": [],
   "source": [
    "def naive_approach(RFC):\n",
    "    aucs_over_folds = []\n",
    "    bas_over_folds = []\n",
    "    for fold in range(0,5):\n",
    "        slides_preds = np.asarray(results_over_folds_test['base_fold_' + str(fold)]['slides_preds']) \n",
    "        slides_labels = np.asarray(results_over_folds_test['base_fold_' + str(fold)]['slides_label']) \n",
    "        slides_output = np.asarray(results_over_folds_test['base_fold_' + str(fold)]['slides_output']) \n",
    "        slides_included = np.asarray(results_over_folds_test['base_fold_' + str(fold)]['slides_included'])  \n",
    "        test_x = []\n",
    "        test_y = []\n",
    "        for idx in slides_included:\n",
    "            test_x.append([hparams.combined_metadata[md][idx] for md in hparams.metadata_list])\n",
    "            test_y.append(hparams.combined_metadata.label[idx])\n",
    "        y_pred_rf = RFC.predict(test_x)\n",
    "        rf_ouputs = RFC.predict_proba(test_x)\n",
    "\n",
    "        scores = []\n",
    "        for sp, so in zip(slides_preds, slides_output):\n",
    "                scores.append(so[sp])\n",
    "        rf_scores = []\n",
    "        for sp, so in zip(y_pred_rf,  rf_ouputs):\n",
    "                rf_scores.append(so[sp])\n",
    "        \n",
    "        scores = np.asarray(scores)\n",
    "        scores_fusion = []\n",
    "        predictions = []\n",
    "        for c, s in enumerate(scores):\n",
    "            if s <= 0.7: \n",
    "                scores_fusion.append(rf_scores[c])\n",
    "                predictions.append(y_pred_rf[c])\n",
    "            else: \n",
    "                scores_fusion.append(scores[c])\n",
    "                predictions.append(slides_preds[c])\n",
    "      \n",
    "        scores_fusions = [score if p == 1 else 1-score for score,p in zip(scores_fusion, predictions)]\n",
    "        aucs_over_folds.append(roc_auc_score(slides_labels, scores_fusions))\n",
    "        bas_over_folds.append(balanced_accuracy_score(slides_labels, predictions))\n",
    "\n",
    "    aucs_over_folds = np.asarray(aucs_over_folds)\n",
    "    bas_over_folds = np.asarray(bas_over_folds)\n",
    "    print('Results of the naive appraoch on the test set for s <=0.7')\n",
    "    print('AUROC: {} % +/- {} %'.format(round(np.mean(aucs_over_folds)*100,2), round(np.std(aucs_over_folds)*100,2)))\n",
    "    print('BA: {} % +/- {} %'.format(round(np.mean(bas_over_folds)*100,2), round(np.std(bas_over_folds)*100,2)))"
   ]
  },
  {
   "cell_type": "code",
   "execution_count": 16,
   "metadata": {},
   "outputs": [
    {
     "name": "stdout",
     "output_type": "stream",
     "text": [
      "Results of the naive appraoch on the test set for s <=0.7\n",
      "AUROC: 89.3 % +/- 0.45 %\n",
      "BA: 86.72 % +/- 0.36 %\n"
     ]
    }
   ],
   "source": [
    "naive_approach(RFC)"
   ]
  },
  {
   "cell_type": "markdown",
   "metadata": {},
   "source": [
    "Performance of the fusion models on slides, where the CNN was \"uncertain\" (supplementary table 3)  \n",
    "-------------------------"
   ]
  },
  {
   "cell_type": "code",
   "execution_count": 17,
   "metadata": {},
   "outputs": [],
   "source": [
    "def performance_of_the_fusions_on_uncertain_slides(hp):\n",
    "    \"Take the scores and divide the test set in secure and unsecure decisions; Function for the baseline\"\n",
    "    for v in [0.6, 0.65, 0.7]: \n",
    "        print('Threshold score s: ', v)\n",
    "        su = {}\n",
    "        for fold in range(0,5):\n",
    "            #results_over_folds_f['fold_'+str(fold)] \n",
    "            slides_preds_f = np.asarray(results_over_folds_test[hp.mode + '_fold_' + str(fold)]['slides_preds']) \n",
    "            slides_labels_f = np.asarray(results_over_folds_test[hp.mode + '_fold_' + str(fold)]['slides_label']) \n",
    "            slides_output_f = np.asarray(results_over_folds_test[hp.mode + '_fold_' + str(fold)]['slides_output']) \n",
    "\n",
    "            slides_preds = np.asarray(results_over_folds_test['base_fold_' + str(fold)]['slides_preds']) \n",
    "            slides_labels = np.asarray(results_over_folds_test['base_fold_' + str(fold)]['slides_label']) \n",
    "            slides_output = np.asarray(results_over_folds_test['base_fold_' + str(fold)]['slides_output']) \n",
    "\n",
    "            scores = []\n",
    "            mode = 'base'\n",
    "            if mode in ['base', 'approach_1']:\n",
    "                for sp, so in zip(slides_preds, slides_output):\n",
    "                    scores.append(so[sp])\n",
    "            else: \n",
    "                scores = [so if so > 0.5 else 1-so for so in slides_output]\n",
    "            scores = np.asarray(scores)\n",
    "            secures = np.where(scores > v)[0]\n",
    "            unsecures = np.where(scores <= v)[0]\n",
    "\n",
    "            preds_secure = slides_preds_f[secures]\n",
    "            labels_secure = slides_labels_f[secures]\n",
    "            preds_unsecure = slides_preds_f[unsecures]\n",
    "            labels_unsecure = slides_labels_f[unsecures]\n",
    "         \n",
    "            ba_secure = balanced_accuracy_score(labels_secure, preds_secure)\n",
    "            ba_unsecure = balanced_accuracy_score(labels_unsecure, preds_unsecure)\n",
    "            su['fold_'+str(fold)] = {'secure': secures, 'unsecures': unsecures, 'ba_secure': ba_secure, 'ba_unsecure': ba_unsecure}\n",
    "        unsecure_mean = np.mean(np.asarray([su['fold_'+str(fold)]['ba_unsecure'] for fold in range(0,5)]))\n",
    "        unsecure_std = np.std(np.asarray([su['fold_'+str(fold)]['ba_unsecure'] for fold in range(0,5)]))\n",
    "        print(\"Balanced accuracy: {}% +/- {}%\".format(round(unsecure_mean*100,2), round(unsecure_std*100,2)))\n",
    "   \n"
   ]
  },
  {
   "cell_type": "code",
   "execution_count": 18,
   "metadata": {},
   "outputs": [
    {
     "name": "stdout",
     "output_type": "stream",
     "text": [
      "weighted\n",
      "Threshold score s:  0.6\n",
      "Balanced accuracy: 67.04% +/- 5.41%\n",
      "Threshold score s:  0.65\n",
      "Balanced accuracy: 66.18% +/- 4.54%\n",
      "Threshold score s:  0.7\n",
      "Balanced accuracy: 65.52% +/- 5.03%\n",
      "CAT\n",
      "Threshold score s:  0.6\n",
      "Balanced accuracy: 63.9% +/- 5.19%\n",
      "Threshold score s:  0.65\n",
      "Balanced accuracy: 64.87% +/- 2.78%\n",
      "Threshold score s:  0.7\n",
      "Balanced accuracy: 67.9% +/- 1.5%\n",
      "SE\n",
      "Threshold score s:  0.6\n",
      "Balanced accuracy: 76.62% +/- 2.61%\n",
      "Threshold score s:  0.65\n",
      "Balanced accuracy: 75.83% +/- 3.68%\n",
      "Threshold score s:  0.7\n",
      "Balanced accuracy: 72.41% +/- 4.68%\n"
     ]
    }
   ],
   "source": [
    "app = ['weighted', 'CAT', 'SE']\n",
    "params = [hparams_weighted, hparams_cat, hparams_se]\n",
    "for hp, app in zip(params, names): \n",
    "    print(app)\n",
    "    performance_of_the_fusions_on_uncertain_slides(hp)\n",
    "    "
   ]
  },
  {
   "cell_type": "code",
   "execution_count": null,
   "metadata": {},
   "outputs": [],
   "source": []
  }
 ],
 "metadata": {
  "kernelspec": {
   "display_name": "Python 3",
   "language": "python",
   "name": "python3"
  },
  "language_info": {
   "codemirror_mode": {
    "name": "ipython",
    "version": 3
   },
   "file_extension": ".py",
   "mimetype": "text/x-python",
   "name": "python",
   "nbconvert_exporter": "python",
   "pygments_lexer": "ipython3",
   "version": "3.7.7"
  }
 },
 "nbformat": 4,
 "nbformat_minor": 4
}
